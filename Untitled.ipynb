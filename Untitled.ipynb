{
 "cells": [
  {
   "cell_type": "markdown",
   "id": "eb5540f0",
   "metadata": {},
   "source": [
    "# Liver Cirhosis Prediction/Classification"
   ]
  },
  {
   "cell_type": "code",
   "execution_count": 1,
   "id": "9f8dce47",
   "metadata": {},
   "outputs": [
    {
     "name": "stderr",
     "output_type": "stream",
     "text": [
      "2023-03-17 11:58:51.445231: I tensorflow/core/platform/cpu_feature_guard.cc:193] This TensorFlow binary is optimized with oneAPI Deep Neural Network Library (oneDNN) to use the following CPU instructions in performance-critical operations:  SSE4.1 SSE4.2\n",
      "To enable them in other operations, rebuild TensorFlow with the appropriate compiler flags.\n"
     ]
    }
   ],
   "source": [
    "import numpy as np\n",
    "import pandas as pd\n",
    "import tensorflow as tf"
   ]
  },
  {
   "cell_type": "markdown",
   "id": "15ca6c3f",
   "metadata": {},
   "source": [
    "## EDA"
   ]
  },
  {
   "cell_type": "code",
   "execution_count": 2,
   "id": "5686f043",
   "metadata": {},
   "outputs": [],
   "source": [
    "#Load\n",
    "cir_df = pd.read_csv(\"cirrhosis.csv\")\n",
    "#Replace Values\n",
    "cir_df[\"Sex\"] = np.where(cir_df[\"Sex\"] == \"M\",1,0)\n",
    "cir_df[\"Ascites\"] = np.where(cir_df[\"Ascites\"] == \"Y\",1,0)\n",
    "cir_df[\"Hepatomegaly\"] = np.where(cir_df[\"Hepatomegaly\"] == \"Y\",1,0)"
   ]
  },
  {
   "cell_type": "code",
   "execution_count": 3,
   "id": "c95cd923",
   "metadata": {},
   "outputs": [
    {
     "data": {
      "text/plain": [
       "True"
      ]
     },
     "execution_count": 3,
     "metadata": {},
     "output_type": "execute_result"
    }
   ],
   "source": [
    "#Check duplicate\n",
    "len(pd.unique(cir_df[\"ID\"])) == len(cir_df.index)"
   ]
  },
  {
   "cell_type": "code",
   "execution_count": 7,
   "id": "ef0a2845",
   "metadata": {},
   "outputs": [
    {
     "data": {
      "text/plain": [
       "Index(['ID', 'N_Days', 'Status', 'Drug', 'Age', 'Sex', 'Ascites',\n",
       "       'Hepatomegaly', 'Spiders', 'Edema', 'Bilirubin', 'Cholesterol',\n",
       "       'Albumin', 'Copper', 'Alk_Phos', 'SGOT', 'Tryglicerides', 'Platelets',\n",
       "       'Prothrombin', 'Stage'],\n",
       "      dtype='object')"
      ]
     },
     "execution_count": 7,
     "metadata": {},
     "output_type": "execute_result"
    }
   ],
   "source": [
    "cir_df.columns"
   ]
  },
  {
   "cell_type": "markdown",
   "id": "060a6572",
   "metadata": {},
   "source": [
    "## Model"
   ]
  },
  {
   "cell_type": "markdown",
   "id": "7ff546d1",
   "metadata": {},
   "source": [
    "### Spliting Data"
   ]
  },
  {
   "cell_type": "markdown",
   "id": "a7cfd985",
   "metadata": {},
   "source": [
    "### Proportional Odds Model"
   ]
  },
  {
   "cell_type": "code",
   "execution_count": null,
   "id": "1d69a4bb",
   "metadata": {},
   "outputs": [],
   "source": [
    "#from statsmodels.miscmodels.ordinal_model import OrderedModel\n",
    "#Or use R"
   ]
  },
  {
   "cell_type": "markdown",
   "id": "4d7d8876",
   "metadata": {},
   "source": [
    "### Multilayer Perceptron Neural Network"
   ]
  },
  {
   "cell_type": "markdown",
   "id": "d691b211",
   "metadata": {},
   "source": [
    "### XGBoost"
   ]
  },
  {
   "cell_type": "markdown",
   "id": "2a31cc16",
   "metadata": {},
   "source": [
    "## Performance Evaluation"
   ]
  }
 ],
 "metadata": {
  "kernelspec": {
   "display_name": "Python 3 (ipykernel)",
   "language": "python",
   "name": "python3"
  },
  "language_info": {
   "codemirror_mode": {
    "name": "ipython",
    "version": 3
   },
   "file_extension": ".py",
   "mimetype": "text/x-python",
   "name": "python",
   "nbconvert_exporter": "python",
   "pygments_lexer": "ipython3",
   "version": "3.10.9"
  }
 },
 "nbformat": 4,
 "nbformat_minor": 5
}
