{
 "cells": [
  {
   "cell_type": "markdown",
   "id": "44ef1aeb",
   "metadata": {},
   "source": [
    "# Liver Cirhosis Risk Prediction/Classification"
   ]
  },
  {
   "cell_type": "code",
   "execution_count": 13,
   "id": "9f8dce47",
   "metadata": {},
   "outputs": [],
   "source": [
    "import numpy as np\n",
    "import pandas as pd\n",
    "%matplotlib inline\n",
    "import matplotlib.pyplot as plt\n",
    "import tensorflow as tf"
   ]
  },
  {
   "cell_type": "markdown",
   "id": "914b67dd",
   "metadata": {},
   "source": [
    "## Data Preprocessing"
   ]
  },
  {
   "cell_type": "code",
   "execution_count": 41,
   "id": "5686f043",
   "metadata": {},
   "outputs": [],
   "source": [
    "#Load\n",
    "cir_df = pd.read_csv(\"cirrhosis.csv\")\n",
    "#Drop rows with too much null value\n",
    "cir_df = cir_df[cir_df[\"Drug\"].isna() == False]\n",
    "#Impute other null value with median\n",
    "cir_df[cir_df[\"Tryglicerides\"].isna()] = np.nanmedian(cir_df[\"Tryglicerides\"])\n",
    "cir_df[cir_df[\"Platelets\"].isna()] = np.nanmedian(cir_df[\"Platelets\"])\n",
    "cir_df[cir_df[\"Cholesterol\"].isna()] = np.nanmedian(cir_df[\"Cholesterol\"])\n",
    "cir_df[cir_df[\"Copper\"].isna()] = np.nanmedian(cir_df[\"Copper\"])\n",
    "#Replace binary values with 0,1\n",
    "cir_df[\"Sex\"] = np.where(cir_df[\"Sex\"] == \"M\",1,0)\n",
    "cir_df[\"Ascites\"] = np.where(cir_df[\"Ascites\"] == \"Y\",1,0)\n",
    "cir_df[\"Hepatomegaly\"] = np.where(cir_df[\"Hepatomegaly\"] == \"Y\",1,0)"
   ]
  },
  {
   "cell_type": "markdown",
   "id": "a6ed4bc3",
   "metadata": {},
   "source": [
    "## EDA"
   ]
  },
  {
   "cell_type": "code",
   "execution_count": 3,
   "id": "c95cd923",
   "metadata": {},
   "outputs": [
    {
     "data": {
      "text/plain": [
       "True"
      ]
     },
     "execution_count": 3,
     "metadata": {},
     "output_type": "execute_result"
    }
   ],
   "source": [
    "#Check duplicate\n",
    "len(pd.unique(cir_df[\"ID\"])) == len(cir_df.index)"
   ]
  },
  {
   "cell_type": "code",
   "execution_count": 7,
   "id": "24e00c82",
   "metadata": {},
   "outputs": [
    {
     "data": {
      "text/plain": [
       "Index(['ID', 'N_Days', 'Status', 'Drug', 'Age', 'Sex', 'Ascites',\n",
       "       'Hepatomegaly', 'Spiders', 'Edema', 'Bilirubin', 'Cholesterol',\n",
       "       'Albumin', 'Copper', 'Alk_Phos', 'SGOT', 'Tryglicerides', 'Platelets',\n",
       "       'Prothrombin', 'Stage'],\n",
       "      dtype='object')"
      ]
     },
     "execution_count": 7,
     "metadata": {},
     "output_type": "execute_result"
    }
   ],
   "source": [
    "cir_df.columns"
   ]
  },
  {
   "cell_type": "markdown",
   "id": "7ee654a2",
   "metadata": {},
   "source": [
    "## Model"
   ]
  },
  {
   "cell_type": "markdown",
   "id": "f025d4b0",
   "metadata": {},
   "source": [
    "### Spliting Data"
   ]
  },
  {
   "cell_type": "code",
   "execution_count": 21,
   "id": "b96d15e4",
   "metadata": {},
   "outputs": [],
   "source": [
    " #X_train, X_test, y_train, y_test = train_test_split(X, y, test_size=0.2, random_state=1)\n",
    "\n",
    " #X_train, X_val, y_train, y_val = train_test_split(X_train, y_train, test_size=0.25, random_state=1) # 0.25 x 0.8 = 0.2"
   ]
  },
  {
   "cell_type": "markdown",
   "id": "e6d30a27",
   "metadata": {},
   "source": [
    "### Proportional Odds Model"
   ]
  },
  {
   "cell_type": "code",
   "execution_count": 9,
   "id": "b1b93765",
   "metadata": {},
   "outputs": [],
   "source": [
    "from statsmodels.miscmodels.ordinal_model import OrderedModel\n",
    "#Or use R"
   ]
  },
  {
   "cell_type": "code",
   "execution_count": 18,
   "id": "14e9fdbe",
   "metadata": {},
   "outputs": [],
   "source": [
    "cir_df[\"Stage\"] = cir_df[\"Stage\"].astype(\"category\")"
   ]
  },
  {
   "cell_type": "markdown",
   "id": "c1823b15",
   "metadata": {},
   "source": [
    "### Multilayer Perceptron Neural Network"
   ]
  },
  {
   "cell_type": "code",
   "execution_count": null,
   "id": "30585b87",
   "metadata": {},
   "outputs": [],
   "source": [
    "#Need one-hot encoding for Endema"
   ]
  },
  {
   "cell_type": "markdown",
   "id": "6fa15c71",
   "metadata": {},
   "source": [
    "$N_h = \\frac{N_s}{\\alpha  (N_i+N_o)}$"
   ]
  },
  {
   "cell_type": "markdown",
   "id": "c662d005",
   "metadata": {},
   "source": [
    "### XGBoost"
   ]
  },
  {
   "cell_type": "markdown",
   "id": "90ea94c0",
   "metadata": {},
   "source": [
    "## Performance Evaluation"
   ]
  }
 ],
 "metadata": {
  "kernelspec": {
   "display_name": "Python 3 (ipykernel)",
   "language": "python",
   "name": "python3"
  },
  "language_info": {
   "codemirror_mode": {
    "name": "ipython",
    "version": 3
   },
   "file_extension": ".py",
   "mimetype": "text/x-python",
   "name": "python",
   "nbconvert_exporter": "python",
   "pygments_lexer": "ipython3",
   "version": "3.10.9"
  }
 },
 "nbformat": 4,
 "nbformat_minor": 5
}
